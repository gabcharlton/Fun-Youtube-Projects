{
 "cells": [
  {
   "cell_type": "markdown",
   "metadata": {},
   "source": [
    "# Simple Game\n",
    "\n",
    "Hello, today I decide dto try my hand at a simpel pythong game. this was done by Tech with Tim, based around a Trivia game. \n",
    "The link to the tutorial is here: <https://www.youtube.com/watch?v=BDi3SD7E6no>"
   ]
  },
  {
   "cell_type": "code",
   "execution_count": null,
   "metadata": {},
   "outputs": [
    {
     "name": "stdout",
     "output_type": "stream",
     "text": [
      "Hello, welcome to trivia!\n"
     ]
    }
   ],
   "source": [
    "print('Hello, welcome to trivia!')\n",
    "\n",
    "ans = input('Are you ready to play (yes/no)?: ')\n",
    "score = 0\n",
    "total_q = 4\n",
    "\n",
    "if ans.lower() == 'yes': #.lower is a string method that puts all our input into lower case. i.e. standardizing input :) \n",
    "    ans = input('1. What is the best programming language?')\n",
    "    if ans.lower() == 'python':\n",
    "        score += 1\n",
    "        print('Correct! :D ')\n",
    "    else:\n",
    "        print('Incorrect :( ')\n",
    "        \n",
    "    ans = input('2. What is 2 + 8 + 9 - 1?')\n",
    "    if ans == '18': #keeping it as a string rather than converting to interger for standardization \n",
    "        score += 1\n",
    "        print('Correct! :D ')\n",
    "    else:\n",
    "        print('Incorrect :( ')\n",
    "        \n",
    "    ans = input('3. What is better: a taco or a burrito?')\n",
    "    if ans.lower() == 'burrito':\n",
    "        score += 1\n",
    "        print('Correct! :D ')\n",
    "    else:\n",
    "        print('Incorrect :( ')\n",
    "        \n",
    "    ans = input('4. Who is better: Elon or Jeff?')\n",
    "    if ans.lower() == 'neither':\n",
    "        score += 1\n",
    "        print('Correct! :D ')\n",
    "    else:\n",
    "        print('Incorrect :( ')\n",
    "    \n",
    "    print('Sweet! You scored: ', score, 'points.')\n",
    "    mark = (score/ total_q) * 100\n",
    "    \n",
    "    print(\"Mark: \"+ str(mark) + \"%\")\n",
    "    print(\" Thanks for playing!\")\n",
    "    \n",
    "print(\"Goodbye. \")\n",
    "    "
   ]
  },
  {
   "cell_type": "code",
   "execution_count": null,
   "metadata": {},
   "outputs": [],
   "source": []
  }
 ],
 "metadata": {
  "kernelspec": {
   "display_name": "Python 3 (ipykernel)",
   "language": "python",
   "name": "python3"
  },
  "language_info": {
   "codemirror_mode": {
    "name": "ipython",
    "version": 3
   },
   "file_extension": ".py",
   "mimetype": "text/x-python",
   "name": "python",
   "nbconvert_exporter": "python",
   "pygments_lexer": "ipython3",
   "version": "3.7.6"
  }
 },
 "nbformat": 4,
 "nbformat_minor": 4
}
