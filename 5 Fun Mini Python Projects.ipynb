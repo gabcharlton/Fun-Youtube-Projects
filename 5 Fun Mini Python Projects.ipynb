{
 "cells": [
  {
   "cell_type": "markdown",
   "metadata": {},
   "source": [
    "# 5 Mini Python Projects\n",
    "Today I'm trying to work on 5 mini python projects by Tech with tim. As always, the link is here: <https://www.youtube.com/watch?v=DLn3jOsNRVE>\n"
   ]
  },
  {
   "cell_type": "markdown",
   "metadata": {},
   "source": [
    "## Quiz Game"
   ]
  },
  {
   "cell_type": "markdown",
   "metadata": {},
   "source": [
    "similar to \"Simple Game\" I already did. GitHub Rrepo link here: <https://github.com/gabcharlton/Fun-Youtube-Projects/blob/main/Simple%20Game.ipynb>"
   ]
  },
  {
   "cell_type": "markdown",
   "metadata": {},
   "source": [
    "#### Imports"
   ]
  },
  {
   "cell_type": "code",
   "execution_count": 4,
   "metadata": {},
   "outputs": [],
   "source": [
    "import random"
   ]
  },
  {
   "cell_type": "markdown",
   "metadata": {},
   "source": [
    "## Number Guessing Game"
   ]
  },
  {
   "cell_type": "code",
   "execution_count": 5,
   "metadata": {},
   "outputs": [
    {
     "name": "stdout",
     "output_type": "stream",
     "text": [
      "5\n",
      "8\n"
     ]
    }
   ],
   "source": [
    "start = 0\n",
    "stop = 11\n",
    "print(random.randrange(start, stop)) #random.randrange(start, stop), doesn't include stop value\n",
    "print(random.randint(start, stop)) #random.randint(start, stop), includes stop value"
   ]
  },
  {
   "cell_type": "code",
   "execution_count": 6,
   "metadata": {},
   "outputs": [
    {
     "name": "stdout",
     "output_type": "stream",
     "text": [
      "Type a number: 1\n",
      "Make a guess: 1\n",
      "You're a winner baby. *jazz hands* \n",
      "You got it in 1 guesses.\n"
     ]
    }
   ],
   "source": [
    "num_start = 0\n",
    "top_of_range = input(\"Type a number: \")\n",
    "\n",
    "if top_of_range.isdigit():\n",
    "    top_of_range = int(top_of_range)\n",
    "    # int(\"25\") -> 25\n",
    "    # int(\"hello\") -> error\n",
    "    \n",
    "    if top_of_range <= 0: #not positive\n",
    "        print(\"Please type a number greater than 0 next time.\")\n",
    "        quit()\n",
    "else: #not  a number\n",
    "    print('Please type a number next time.')\n",
    "    quit()\n",
    "\n",
    "random_number = random.randint(num_start, top_of_range)\n",
    "#print(random_number)\n",
    "guess = 0\n",
    "\n",
    "while True:\n",
    "    guess += 1\n",
    "    user_guess = input(\"Make a guess: \")\n",
    "    \n",
    "    if user_guess.isdigit():\n",
    "        user_guess = int(user_guess)\n",
    "\n",
    "    else: #not  a number\n",
    "        print('Please type a number next time.')\n",
    "        continue #automatically take us back to the top of our while loop\n",
    "    \n",
    "    if user_guess == random_number:\n",
    "        print(\"You're a winner baby. *jazz hands* \")\n",
    "       \n",
    "        break #if we get it it stops\n",
    "        \n",
    "    else:\n",
    "        print(\"Not quite.. :( \")\n",
    "        if user_guess > random_number:\n",
    "            print(\"Scooch down a bit...\")\n",
    "        else:\n",
    "            print(\"Scooch up a bit...\")\n",
    "            \n",
    "        print(\"---------------\")\n",
    "        \n",
    "        \n",
    "print(\"You got it in\", guess, \"guesses.\")"
   ]
  },
  {
   "cell_type": "markdown",
   "metadata": {},
   "source": [
    "## Rock Paper Scissors"
   ]
  },
  {
   "cell_type": "code",
   "execution_count": 7,
   "metadata": {},
   "outputs": [
    {
     "name": "stdout",
     "output_type": "stream",
     "text": [
      "Type Rock/Paper/Scissors or Q to quit: q\n",
      "You won 0 times.\n",
      "Our machine won 0 times.\n",
      "à bientôt!\n"
     ]
    }
   ],
   "source": [
    "#import random\n",
    "\n",
    "user_wins = 0\n",
    "computer_wins = 0\n",
    "moves = [\"rock\", \"paper\", \"scissors\"]\n",
    "\n",
    "while True:\n",
    "    user_input = input(\"Type Rock/Paper/Scissors or Q to quit: \").lower()\n",
    "    if user_input == \"q\":\n",
    "        quit()\n",
    "        break \n",
    "        \n",
    "    if user_input not in moves:\n",
    "        continue #keeps re-asking until they give a valid response\n",
    "    \n",
    "    random_number = random.randint(0,2)\n",
    "    # rock = 0/ moves[0], paper = 1/ moves[1], scissors = 2/ moves[2]\n",
    "    computer_pick = moves[random_number]\n",
    "    print(\"Computer picked:\", computer_pick + \".\")\n",
    "    \n",
    "    if user_input == \"rock\" and computer_pick == \"scissors\":\n",
    "        print(\"You're a winner baby. Crushed it.~\")\n",
    "        user_wins += 1\n",
    "        \n",
    "    if user_input == \"paper\" and computer_pick == \"rock\":\n",
    "        print(\"You're a winner baby. Wrapped it up.~\")\n",
    "        user_wins += 1\n",
    "        \n",
    "    if user_input == \"scissors\" and computer_pick == \"rock\":\n",
    "        print(\"You're a winner baby. Sliced it like cake. ~\")\n",
    "        user_wins += 1\n",
    "        \n",
    "    #if user_input == computer_pick:\n",
    "     #   print(\"Tis a draw.\")\n",
    "        \n",
    "    else:\n",
    "        print(\"You lost!\")\n",
    "        computer_wins += 1\n",
    "        \n",
    "print(\"You won\", user_wins, \"times.\")    \n",
    "print(\"Our machine won\", computer_wins, \"times.\")    \n",
    "print(\"à bientôt!\")"
   ]
  },
  {
   "cell_type": "markdown",
   "metadata": {},
   "source": [
    "## Choose Your Own Adventure"
   ]
  },
  {
   "cell_type": "code",
   "execution_count": 4,
   "metadata": {},
   "outputs": [
    {
     "name": "stdout",
     "output_type": "stream",
     "text": [
      "Type your name:Big Booty Bitch\n",
      "Welcome Big Booty Bitch to this adventure.\n",
      "You are on a dirt road, it has come to an end and you can go left or right. Which way to go? (Left or Right)Left\n",
      "You reach a cool river, that's going a little fast. Should we be cautious and walk around or be brave and swim across? (Walk or Swim)Swim\n",
      "The currnet is pulling you further down than expected, but we find a branch sticking out. It's abit shiny but look sturdy. Do we grab hold? (Yes or No)No\n",
      "You let the colors of the wind guide you so a bank not too far away where you climb up and notice a nice looking shed. Should we investigate or keep moving into the jungle? (Investigate or Move on)Move on\n",
      "Sadly you wonder the jungle cold and afraid for days before finding refuge... at a Walmart only 5 miles from where you were wondering! You call for a ride and wait to munch down on an A&W burger first chnace you get.\n"
     ]
    }
   ],
   "source": [
    "name = input(\"Type your name:\")\n",
    "print(\"Welcome\", name, \"to this adventure.\")\n",
    "\n",
    "answer = input(\"You are on a dirt road, it has come to an end and you can go left or right. Which way to go? (Left or Right)\").lower()\n",
    "\n",
    "if answer == \"left\":\n",
    "    answer = input(\"You reach a cool river, that's going a little fast. Should we be cautious and walk around or be brave and swim across? (Walk or Swim)\").lower()\n",
    "    \n",
    "    if answer == \"swim\":\n",
    "        \n",
    "        answer = input(\"The currnet is pulling you further down than expected, but we find a branch sticking out. It's abit shiny but look sturdy. Do we grab hold? (Yes or No)\").lower()\n",
    "        \n",
    "        if answer == \"yes\":\n",
    "            print(\"Turns out snakes can look like branches! You are wrapped up like a breakfast burrito and swallowed whole. You lose.\")\n",
    "        \n",
    "        elif answer == \"no\":\n",
    "            answer = input(\"You let the colors of the wind guide you so a bank not too far away where you climb up and notice a nice looking shed. Should we investigate or keep moving into the jungle? (Investigate or Move on)\").lower()\n",
    "            \n",
    "            if answer == \"investigate\":\n",
    "                print(\"WHoo Hoo, turn out it was a ranger. Being abit cold from the river, you smile happily while the ranger fixes you a cup of hot cocoa and provides you a warm blanket. 'Never agian will I try to find the Elon Muskius flower!' you think as you await to be home within just a few hours\")\n",
    "            \n",
    "            if answer == \"move on\":\n",
    "                print(\"Sadly you wonder the jungle cold and afraid for days before finding refuge... at a Walmart only 5 miles from where you were wondering! You call for a ride and wait to munch down on an A&W burger first chnace you get.\")\n",
    "            else:\n",
    "                print('Not a valid option. You were eaten by a boa constrictor lurking in the bushes as you pondered a witty remark...')\n",
    "        else:\n",
    "            print('Not a valid option. You were eaten by an alligator lurking in the bushes as you pondered a witty remark...')\n",
    "              \n",
    "    elif answer == \"walk\":\n",
    "        answer = input(\"You find a cute bettle, definitely one for the history books! Not sur eif it's poisonous you look for a stick to poke at it. Just above you there is a branch sticking out. It's abit shiny but look sturdy. Do we grab hold? (Yes or No)\").lower()\n",
    "        \n",
    "        if answer == \"yes\":\n",
    "            print(\"Turns out snakes can look like branches! You are wrapped up like a breakfast burrito and swallowed whole. You lose.\")\n",
    "        \n",
    "        elif answer == \"no\":\n",
    "            print(\"You decide to avoid touching mysterious objects and just make up your mind on picking it up with your hands or walking away. What do you do? (Hands or Move on)\").lower()\n",
    "            \n",
    "            if answer == \"Hands\":\n",
    "                print(\"You pick up the little bug with your hands. It shines and in a flash of light grows 20 times your size. It smiles at you and lifts you off home, where for teh rest of your life, you try to convince others it really happened... \")\n",
    "            \n",
    "            if answer == \"move on\":\n",
    "                print(\"Sadly you wonder the jungle cold and afraid for days before finding refuge... at a Walmart only 5 miles from where you were wondering! You call for a ride and wait to munch down on an A&W burger first chnace you get.\")\n",
    "            else:\n",
    "                print('Not a valid option. You were eaten by a hedgehog lurking in the bushes as you pondered a witty remark...')\n",
    "            \n",
    "    else:\n",
    "        print('Not a valid option. You were eaten by a T-Rex lurking in a bushes as you pondered a witty remark...')\n",
    "    \n",
    "elif answer == \"right\":\n",
    "    print(\"You walk into a Starbucks, right across the street, and call yourself an Uber. 'While I did come here for research of the Elon Muskius flower for my thesis paper, I'm a bit tired and need to enjoy my vaction' you think to yourself while sipping on a PSL.\")\n",
    "\n",
    "else:\n",
    "    print('Not a valid option. You lose.')\n"
   ]
  },
  {
   "cell_type": "markdown",
   "metadata": {},
   "source": [
    "## Password Managers"
   ]
  },
  {
   "cell_type": "markdown",
   "metadata": {},
   "source": [
    "master_pwd = input(\"What is the master password? \") #master password is \"test\" :) \n",
    "\n",
    "def view():\n",
    "    with open('passwords.txt', 'r') as f:\n",
    "        for line in f.readlines():\n",
    "            data = line.rstrip()\n",
    "            user, passw = data.split(\"|\")\n",
    "            print(\"User:\", user, \", Password:\", passw)\n",
    "\n",
    "def add():\n",
    "    name = input('Account Name: ')\n",
    "    pwd = input(\"Password: \")\n",
    "    \n",
    "    with open('passwords.txt', 'a') as f: #safer to use \"with\" as it closes teh file for you. if you werwe to use a variable instead like \"file\" you nee dto state \"file.close\" or it might give errors\n",
    "        # 'a' is append, which means if the file exists, it adds new info to the end\n",
    "        f.write(name + \"|\" + pwd + \"\\n\") #tells us to go to the next line\n",
    "        \n",
    "while True:\n",
    "    mode = input(\"Would you like to add a new password or view existing ones (view or add)? Press q to quit. \").lower()\n",
    "    if mode == \"q\":\n",
    "        break\n",
    "\n",
    "    if mode == \"view\":\n",
    "        view()\n",
    "\n",
    "    elif mode == \"add\":\n",
    "        add()\n",
    "    \n",
    "    else: \n",
    "        print(\"Invalid mode. \")\n",
    "        continue\n"
   ]
  },
  {
   "cell_type": "code",
   "execution_count": 24,
   "metadata": {},
   "outputs": [
    {
     "name": "stdout",
     "output_type": "stream",
     "text": [
      "Would you like to add a new password or view existing ones (view or add)? Press q to quit. billy\n",
      "Invalid mode. \n",
      "Would you like to add a new password or view existing ones (view or add)? Press q to quit. add\n",
      "Account Name: billy\n",
      "Password: 12345\n",
      "Would you like to add a new password or view existing ones (view or add)? Press q to quit. add\n",
      "Account Name: joe\n",
      "Password: 34568\n",
      "Would you like to add a new password or view existing ones (view or add)? Press q to quit. view\n"
     ]
    },
    {
     "ename": "ValueError",
     "evalue": "not enough values to unpack (expected 2, got 1)",
     "output_type": "error",
     "traceback": [
      "\u001b[1;31m---------------------------------------------------------------------------\u001b[0m",
      "\u001b[1;31mValueError\u001b[0m                                Traceback (most recent call last)",
      "\u001b[1;32m~\\AppData\\Local\\Temp\\ipykernel_17156\\680240386.py\u001b[0m in \u001b[0;36m<module>\u001b[1;34m\u001b[0m\n\u001b[0;32m     47\u001b[0m \u001b[1;33m\u001b[0m\u001b[0m\n\u001b[0;32m     48\u001b[0m     \u001b[1;32mif\u001b[0m \u001b[0mmode\u001b[0m \u001b[1;33m==\u001b[0m \u001b[1;34m\"view\"\u001b[0m\u001b[1;33m:\u001b[0m\u001b[1;33m\u001b[0m\u001b[1;33m\u001b[0m\u001b[0m\n\u001b[1;32m---> 49\u001b[1;33m         \u001b[0mview\u001b[0m\u001b[1;33m(\u001b[0m\u001b[1;33m)\u001b[0m\u001b[1;33m\u001b[0m\u001b[1;33m\u001b[0m\u001b[0m\n\u001b[0m\u001b[0;32m     50\u001b[0m \u001b[1;33m\u001b[0m\u001b[0m\n\u001b[0;32m     51\u001b[0m     \u001b[1;32melif\u001b[0m \u001b[0mmode\u001b[0m \u001b[1;33m==\u001b[0m \u001b[1;34m\"add\"\u001b[0m\u001b[1;33m:\u001b[0m\u001b[1;33m\u001b[0m\u001b[1;33m\u001b[0m\u001b[0m\n",
      "\u001b[1;32m~\\AppData\\Local\\Temp\\ipykernel_17156\\680240386.py\u001b[0m in \u001b[0;36mview\u001b[1;34m()\u001b[0m\n\u001b[0;32m     29\u001b[0m         \u001b[1;32mfor\u001b[0m \u001b[0mline\u001b[0m \u001b[1;32min\u001b[0m \u001b[0mf\u001b[0m\u001b[1;33m.\u001b[0m\u001b[0mreadlines\u001b[0m\u001b[1;33m(\u001b[0m\u001b[1;33m)\u001b[0m\u001b[1;33m:\u001b[0m\u001b[1;33m\u001b[0m\u001b[1;33m\u001b[0m\u001b[0m\n\u001b[0;32m     30\u001b[0m             \u001b[0mdata\u001b[0m \u001b[1;33m=\u001b[0m \u001b[0mline\u001b[0m\u001b[1;33m.\u001b[0m\u001b[0mrstrip\u001b[0m\u001b[1;33m(\u001b[0m\u001b[1;33m)\u001b[0m\u001b[1;33m\u001b[0m\u001b[1;33m\u001b[0m\u001b[0m\n\u001b[1;32m---> 31\u001b[1;33m             \u001b[0muser\u001b[0m\u001b[1;33m,\u001b[0m \u001b[0mpassw\u001b[0m \u001b[1;33m=\u001b[0m \u001b[0mdata\u001b[0m\u001b[1;33m.\u001b[0m\u001b[0msplit\u001b[0m\u001b[1;33m(\u001b[0m\u001b[1;34m\"|\"\u001b[0m\u001b[1;33m)\u001b[0m\u001b[1;33m\u001b[0m\u001b[1;33m\u001b[0m\u001b[0m\n\u001b[0m\u001b[0;32m     32\u001b[0m             \u001b[0mprint\u001b[0m\u001b[1;33m(\u001b[0m\u001b[1;34m\"User:\"\u001b[0m\u001b[1;33m,\u001b[0m \u001b[0muser\u001b[0m\u001b[1;33m,\u001b[0m \u001b[1;34m\"| Password:\"\u001b[0m\u001b[1;33m,\u001b[0m \u001b[0mfer\u001b[0m\u001b[1;33m.\u001b[0m\u001b[0mdecrypt\u001b[0m\u001b[1;33m(\u001b[0m\u001b[0mpassw\u001b[0m\u001b[1;33m.\u001b[0m\u001b[0mencode\u001b[0m\u001b[1;33m(\u001b[0m\u001b[1;33m)\u001b[0m\u001b[1;33m)\u001b[0m\u001b[1;33m.\u001b[0m\u001b[0mdecode\u001b[0m\u001b[1;33m(\u001b[0m\u001b[1;33m)\u001b[0m\u001b[1;33m)\u001b[0m\u001b[1;33m\u001b[0m\u001b[1;33m\u001b[0m\u001b[0m\n\u001b[0;32m     33\u001b[0m \u001b[1;33m\u001b[0m\u001b[0m\n",
      "\u001b[1;31mValueError\u001b[0m: not enough values to unpack (expected 2, got 1)"
     ]
    }
   ],
   "source": [
    "from cryptography.fernet import Fernet #module allows you to encrypt text\n",
    "\n",
    "#key + password + text_to_encrpt = random_text\n",
    "#random_text + key + password = text_to_encrypt\n",
    "# teh wrong inputter master pwd give sthe wrong list of passwords form our txt file\n",
    "\n",
    " #used once to generate key and pulled out of active function :) \n",
    "'''def write_key():\n",
    "    key = Fernet.generate_key()\n",
    "    with open(\"key.key\", \"wb\") as key_file: #wb = write byte mode\n",
    "        key_file.write(key) #write in teh key generated\n",
    "        \n",
    "write_key() '''      \n",
    "        \n",
    "def load_key():\n",
    "    file = open(\"key.key\", \"rb\") #rb is read in bytes\n",
    "    key = file.read()\n",
    "    file.close()\n",
    "    return key\n",
    "\n",
    "\n",
    "#master_pwd = input(\"What is the master password? \") #master password is \"test\" :) \n",
    "#key = load_key() + master_pwd.encode() #encode just converts key to bytes\n",
    "key = load_key()\n",
    "fer = Fernet(key)\n",
    "\n",
    "def view():\n",
    "    with open('passwords.txt', 'r') as f:\n",
    "        for line in f.readlines():\n",
    "            data = line.rstrip()\n",
    "            user, passw = data.split(\"|\")\n",
    "            print(\"User:\", user, \"| Password:\", fer.decrypt(passw.encode()).decode())\n",
    "\n",
    "def add():\n",
    "    name = input('Account Name: ')\n",
    "    pwd = input(\"Password: \")\n",
    "    \n",
    "    with open('passwords.txt', 'a') as f: #safer to use \"with\" as it closes teh file for you. if you werwe to use a variable instead like \"file\" you nee dto state \"file.close\" or it might give errors\n",
    "        # 'a' is append, which means if the file exists, it adds new info to the end\n",
    "        f.write(name + \"|\" + fer.encrypt(pwd.encode()).decode() + \"\\n\") #tells us to go to the next line\n",
    "\n",
    "        \n",
    "while True:\n",
    "    mode = input(\"Would you like to add a new password or view existing ones (view or add)? Press q to quit. \").lower()\n",
    "    if mode == \"q\":\n",
    "        break\n",
    "\n",
    "    if mode == \"view\":\n",
    "        view()\n",
    "\n",
    "    elif mode == \"add\":\n",
    "        add()\n",
    "    \n",
    "    else: \n",
    "        print(\"Invalid mode. \")\n",
    "        continue\n"
   ]
  },
  {
   "cell_type": "code",
   "execution_count": null,
   "metadata": {},
   "outputs": [],
   "source": []
  }
 ],
 "metadata": {
  "kernelspec": {
   "display_name": "Python 3 (ipykernel)",
   "language": "python",
   "name": "python3"
  },
  "language_info": {
   "codemirror_mode": {
    "name": "ipython",
    "version": 3
   },
   "file_extension": ".py",
   "mimetype": "text/x-python",
   "name": "python",
   "nbconvert_exporter": "python",
   "pygments_lexer": "ipython3",
   "version": "3.7.6"
  }
 },
 "nbformat": 4,
 "nbformat_minor": 4
}
